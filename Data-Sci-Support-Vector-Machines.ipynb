{
 "cells": [
  {
   "cell_type": "code",
   "execution_count": 1,
   "metadata": {},
   "outputs": [],
   "source": [
    "import numpy as np\n",
    "import pandas as pd\n",
    "from sklearn.svm import SVC\n",
    "from sklearn import svm\n",
    "from sklearn.preprocessing import StandardScaler \n",
    "from sklearn.decomposition import PCA\n",
    "from sklearn.model_selection import cross_val_score\n",
    "import matplotlib.pyplot as plt\n",
    "%matplotlib inline"
   ]
  },
  {
   "cell_type": "code",
   "execution_count": 3,
   "metadata": {},
   "outputs": [],
   "source": [
    "#carga do dados, transformação em numérico e divisão entre preditoras X e target y\n",
    "df = pd.read_csv('automobile_data.csv')\n",
    "\n",
    "#movendo a variável target para a extrema direita do dataset\n",
    "column_names = ['symboling', 'normalized-losses', 'make', 'fuel-type',\n",
    "       'num-of-doors', 'body-style', 'drive-wheels', 'engine-location',\n",
    "       'wheel-base', 'length', 'width', 'height', 'curb-weight', 'engine-type',\n",
    "       'num-of-cylinders', 'engine-size', 'fuel-system', 'bore', 'stroke',\n",
    "       'compression-ratio', 'horsepower', 'peak-rpm', 'city-mpg',\n",
    "       'highway-mpg', 'price', 'aspiration']\n",
    "\n",
    "df = df.reindex(columns=column_names)\n",
    "\n",
    "#transformando target em dígitos\n",
    "df.loc[(df['aspiration'] == 'std')] = 0\n",
    "df.loc[(df['aspiration'] == 'turbo')] = 1\n",
    "\n",
    "#separando variáveis preditoras da target\n",
    "X = df.iloc[:,:-1]\n",
    "y = df['aspiration'].values.astype(int)\n",
    "\n",
    "#loop que percorre lista de colunas categóricas que terão valores por categoria convertidas em número \n",
    "X = X.astype(str)\n",
    "novo_valor_numerico = 0\n",
    "i = 0\n",
    "for x in X.columns:\n",
    "    for z in X[x].drop_duplicates():        \n",
    "        X[x].replace({z: str(i)}, inplace=True)\n",
    "        i+=1\n",
    "    i = 0\n",
    "X = X.astype(int)"
   ]
  },
  {
   "cell_type": "code",
   "execution_count": 4,
   "metadata": {},
   "outputs": [],
   "source": [
    "# Reduzindo a dimensionalidade com PCA\n",
    "pca = PCA(n_components = 2).fit(X)\n",
    "# Aplicando o PCA\n",
    "pca_2d = pca.transform(X)"
   ]
  },
  {
   "cell_type": "code",
   "execution_count": 5,
   "metadata": {},
   "outputs": [],
   "source": [
    "#criando modelo\n",
    "modelo = SVC( kernel = 'rbf', C = 1.0, gamma = 0.7, random_state = 101)"
   ]
  },
  {
   "cell_type": "code",
   "execution_count": 6,
   "metadata": {},
   "outputs": [],
   "source": [
    "scores = cross_val_score(modelo, pca_2d, y)"
   ]
  },
  {
   "cell_type": "code",
   "execution_count": 7,
   "metadata": {},
   "outputs": [
    {
     "data": {
      "text/plain": [
       "SVC(C=1.0, break_ties=False, cache_size=200, class_weight=None, coef0=0.0,\n",
       "    decision_function_shape='ovr', degree=3, gamma=0.7, kernel='rbf',\n",
       "    max_iter=-1, probability=False, random_state=101, shrinking=True, tol=0.001,\n",
       "    verbose=False)"
      ]
     },
     "execution_count": 7,
     "metadata": {},
     "output_type": "execute_result"
    }
   ],
   "source": [
    "modelo.fit(pca_2d, y)"
   ]
  },
  {
   "cell_type": "code",
   "execution_count": 8,
   "metadata": {},
   "outputs": [
    {
     "name": "stdout",
     "output_type": "stream",
     "text": [
      "Acurácia: 1.000\n"
     ]
    }
   ],
   "source": [
    "#cheiro de overfitting\n",
    "print ('Acurácia: %0.3f' % np.mean( scores))"
   ]
  },
  {
   "cell_type": "code",
   "execution_count": null,
   "metadata": {},
   "outputs": [],
   "source": []
  }
 ],
 "metadata": {
  "kernelspec": {
   "display_name": "Python 3",
   "language": "python",
   "name": "python3"
  },
  "language_info": {
   "codemirror_mode": {
    "name": "ipython",
    "version": 3
   },
   "file_extension": ".py",
   "mimetype": "text/x-python",
   "name": "python",
   "nbconvert_exporter": "python",
   "pygments_lexer": "ipython3",
   "version": "3.6.5"
  }
 },
 "nbformat": 4,
 "nbformat_minor": 4
}
